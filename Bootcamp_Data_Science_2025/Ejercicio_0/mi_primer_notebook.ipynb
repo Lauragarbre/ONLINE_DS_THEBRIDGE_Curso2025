{
 "cells": [
  {
   "cell_type": "code",
   "execution_count": 1,
   "id": "23a28b1a-1f34-4a3c-aa05-17aa69c04b8b",
   "metadata": {},
   "outputs": [
    {
     "name": "stdout",
     "output_type": "stream",
     "text": [
      "Hola Mundo\n"
     ]
    }
   ],
   "source": [
    "print (\"Hola Mundo\")"
   ]
  },
  {
   "cell_type": "markdown",
   "id": "22ea30a1-dbdf-4672-8e28-691d2974df36",
   "metadata": {},
   "source": [
    "Hola Mundo"
   ]
  },
  {
   "cell_type": "code",
   "execution_count": null,
   "id": "f25a1a3f-b7e1-46fb-9e99-7129e10a7bc3",
   "metadata": {},
   "outputs": [],
   "source": []
  }
 ],
 "metadata": {
  "kernelspec": {
   "display_name": "Python 3 (ipykernel)",
   "language": "python",
   "name": "python3"
  },
  "language_info": {
   "codemirror_mode": {
    "name": "ipython",
    "version": 3
   },
   "file_extension": ".py",
   "mimetype": "text/x-python",
   "name": "python",
   "nbconvert_exporter": "python",
   "pygments_lexer": "ipython3",
   "version": "3.12.2"
  }
 },
 "nbformat": 4,
 "nbformat_minor": 5
}
