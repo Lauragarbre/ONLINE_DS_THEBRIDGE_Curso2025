{
 "cells": [
  {
   "cell_type": "code",
   "execution_count": 2,
   "metadata": {},
   "outputs": [],
   "source": [
    "import json\n",
    "import pandas as pd\n",
    "import requests\n",
    "from bs4 import BeautifulSoup as bs"
   ]
  },
  {
   "cell_type": "code",
   "execution_count": 66,
   "metadata": {},
   "outputs": [],
   "source": [
    "url=\"https://www.carwow.es/suvs/7-plazas?utm_source=google&utm_medium=cpc&utm_account=1067952725&utm_campaign=16616870776&utm_group=140354601048&utm_keyword=&device=c&campaignid=16616870776&adgroupid=140354601048&gad_source=1&gbraid=0AAAAADkNbBUPhyVGM4sZxbLeGiQKHZ1nw&gclid=CjwKCAjwq7fABhB2EiwAwk-YbDwojWaxN2WG0_cnvz9JYpB20AtA5WJy8TP3udES_xm-XQdCLAp3QRoCxhMQAvD_BwE\""
   ]
  },
  {
   "cell_type": "code",
   "execution_count": 67,
   "metadata": {},
   "outputs": [
    {
     "name": "stdout",
     "output_type": "stream",
     "text": [
      "200 OK\n"
     ]
    }
   ],
   "source": [
    "prueba = requests.get(url)\n",
    "print(prueba.status_code, prueba.reason)\n",
    "sopa = bs(prueba.text, \"lxml\")"
   ]
  },
  {
   "cell_type": "code",
   "execution_count": 68,
   "metadata": {},
   "outputs": [
    {
     "name": "stdout",
     "output_type": "stream",
     "text": [
      "['1. Mazda CX-80', '2. Renault Espace', '3. Hyundai Santa Fe', '4. Skoda Kodiaq', '5. Peugeot 5008', '6. Volkswagen Tayron', '7. KIA Sorento', '8. Nissan X-Trail', '9. Mercedes-Benz GLB', '10. Toyota Highlander']\n"
     ]
    }
   ],
   "source": [
    "coches = sopa.find_all( 'h3', class_='deal-review-highlight-automated-ctas__title')\n",
    "lista_coches = []\n",
    "for indice, coche in enumerate(coches):\n",
    "    lista_coches.append(coche.text.strip())\n",
    "    indice += 1\n",
    "print(lista_coches)\n",
    "\n"
   ]
  },
  {
   "cell_type": "code",
   "execution_count": 69,
   "metadata": {},
   "outputs": [
    {
     "name": "stdout",
     "output_type": "stream",
     "text": [
      "['Autonomía homologada hasta 60 km', 'Autonomía homologada hasta 54 km', 'Autonomía homologada hasta 123 km', 'Autonomía homologada hasta 57 km']\n"
     ]
    }
   ],
   "source": [
    "Datos_adicionales= sopa.find_all('div', class_='deal-review-highlight-automated-ctas__stat') \n",
    "info_adicional =[]\n",
    "for indice, dato_adicional in enumerate(Datos_adicionales):\n",
    "    info_adicional.append(dato_adicional.text.strip())\n",
    "    indice += 1\n",
    "print(info_adicional) # dar una vuelta, porque no son 10 valores, unos tienen y otros no\n",
    "    "
   ]
  },
  {
   "cell_type": "code",
   "execution_count": 70,
   "metadata": {},
   "outputs": [
    {
     "name": "stdout",
     "output_type": "stream",
     "text": [
      "['Excelente eficiencia tanto en el PHEV como en el diésel', 'Fácil acceso y amplio espacio en la segunda y tercera fila de asientos', 'Alta calidad de construcción y acabados interiores', 'Excelente eficiencia tanto en el PHEV como en el diésel', 'Fácil acceso y amplio espacio en la segunda y tercera fila de asientos', 'Alta calidad de construcción y acabados interiores', 'Consumo', 'Equipamiento disponible', 'Opción de siete plazas sin coste', 'Consumo', 'Equipamiento disponible', 'Opción de siete plazas sin coste', 'Equipamiento y tecnología propios de coches de más alta gama', 'Motor híbrido potente y tracción total', 'Es un coche cómodo de conducir en toda circunstancia', 'Equipamiento y tecnología propios de coches de más alta gama', 'Motor híbrido potente y tracción total', 'Es un coche cómodo de conducir en toda circunstancia', 'Practicidad y espacio disponible', 'Oferta mecánica amplia', 'Confort de marcha', 'Practicidad y espacio disponible', 'Oferta mecánica amplia', 'Confort de marcha', 'Amplio interior con 7 plazas de serie', 'Comodidad y refinamiento', 'Motorizaciones híbridas y eléctricas, con buena autonomía', 'Amplio interior con 7 plazas de serie', 'Comodidad y refinamiento', 'Motorizaciones híbridas y eléctricas, con buena autonomía', 'Maletero muy grande', 'Aislamiento', 'Integración de ChatGPT', 'Maletero muy grande', 'Aislamiento', 'Integración de ChatGPT', 'Variedad de motores', 'Amplio y disponible con siete plazas', 'Precio', 'Variedad de motores', 'Amplio y disponible con siete plazas', 'Precio', 'Presentación vistosa', 'Confort general', 'Uno de los pocos de su tamaño con siete plazas', 'Presentación vistosa', 'Confort general', 'Uno de los pocos de su tamaño con siete plazas', 'Versatilidad', 'Diseño', 'Variedad', 'Versatilidad', 'Diseño', 'Variedad', 'Versatilidad', 'Facilidad de conducción', 'Etiqueta Eco en toda la gama', 'Versatilidad', 'Facilidad de conducción', 'Etiqueta Eco en toda la gama']\n"
     ]
    }
   ],
   "source": [
    "cosas_a_favor= sopa.find_all('li', class_='list-icon__item list-icon__item--positive') # da valores repetidos porque están dos veces\n",
    "lista_a_favor = []\n",
    "for indice, a_favor in enumerate(cosas_a_favor):\n",
    "    if a_favor not in lista_a_favor:\n",
    "        lista_a_favor.append(a_favor.text.strip())\n",
    "        indice +=1\n",
    "print(lista_a_favor)"
   ]
  },
  {
   "cell_type": "code",
   "execution_count": 71,
   "metadata": {},
   "outputs": [],
   "source": [
    "def agrupar_de_tres(lista): # agrupo realmente en 6 porque los valores están repetidos\n",
    "  \"\"\"Agrupa los elementos de una lista en sublistas de tamaño 3.\n",
    "\n",
    "  Args:\n",
    "    lista: La lista original.\n",
    "\n",
    "  Returns:\n",
    "    Una nueva lista que contiene sublistas de tamaño 3.\n",
    "  \"\"\"\n",
    "  return [lista[i:i+3] for i in range(0, len(lista), 3)]"
   ]
  },
  {
   "cell_type": "code",
   "execution_count": 72,
   "metadata": {},
   "outputs": [
    {
     "data": {
      "text/plain": [
       "[['Excelente eficiencia tanto en el PHEV como en el diésel',\n",
       "  'Fácil acceso y amplio espacio en la segunda y tercera fila de asientos',\n",
       "  'Alta calidad de construcción y acabados interiores'],\n",
       " ['Excelente eficiencia tanto en el PHEV como en el diésel',\n",
       "  'Fácil acceso y amplio espacio en la segunda y tercera fila de asientos',\n",
       "  'Alta calidad de construcción y acabados interiores'],\n",
       " ['Consumo', 'Equipamiento disponible', 'Opción de siete plazas sin coste'],\n",
       " ['Consumo', 'Equipamiento disponible', 'Opción de siete plazas sin coste'],\n",
       " ['Equipamiento y tecnología propios de coches de más alta gama',\n",
       "  'Motor híbrido potente y tracción total',\n",
       "  'Es un coche cómodo de conducir en toda circunstancia'],\n",
       " ['Equipamiento y tecnología propios de coches de más alta gama',\n",
       "  'Motor híbrido potente y tracción total',\n",
       "  'Es un coche cómodo de conducir en toda circunstancia'],\n",
       " ['Practicidad y espacio disponible',\n",
       "  'Oferta mecánica amplia',\n",
       "  'Confort de marcha'],\n",
       " ['Practicidad y espacio disponible',\n",
       "  'Oferta mecánica amplia',\n",
       "  'Confort de marcha'],\n",
       " ['Amplio interior con 7 plazas de serie',\n",
       "  'Comodidad y refinamiento',\n",
       "  'Motorizaciones híbridas y eléctricas, con buena autonomía'],\n",
       " ['Amplio interior con 7 plazas de serie',\n",
       "  'Comodidad y refinamiento',\n",
       "  'Motorizaciones híbridas y eléctricas, con buena autonomía'],\n",
       " ['Maletero muy grande', 'Aislamiento', 'Integración de ChatGPT'],\n",
       " ['Maletero muy grande', 'Aislamiento', 'Integración de ChatGPT'],\n",
       " ['Variedad de motores', 'Amplio y disponible con siete plazas', 'Precio'],\n",
       " ['Variedad de motores', 'Amplio y disponible con siete plazas', 'Precio'],\n",
       " ['Presentación vistosa',\n",
       "  'Confort general',\n",
       "  'Uno de los pocos de su tamaño con siete plazas'],\n",
       " ['Presentación vistosa',\n",
       "  'Confort general',\n",
       "  'Uno de los pocos de su tamaño con siete plazas'],\n",
       " ['Versatilidad', 'Diseño', 'Variedad'],\n",
       " ['Versatilidad', 'Diseño', 'Variedad'],\n",
       " ['Versatilidad', 'Facilidad de conducción', 'Etiqueta Eco en toda la gama'],\n",
       " ['Versatilidad', 'Facilidad de conducción', 'Etiqueta Eco en toda la gama']]"
      ]
     },
     "execution_count": 72,
     "metadata": {},
     "output_type": "execute_result"
    }
   ],
   "source": [
    "lista_agrupada_a_favor = agrupar_de_tres(lista_a_favor)\n",
    "lista_agrupada_a_favor"
   ]
  },
  {
   "cell_type": "code",
   "execution_count": 73,
   "metadata": {},
   "outputs": [
    {
     "name": "stdout",
     "output_type": "stream",
     "text": [
      "[['Excelente eficiencia tanto en el PHEV como en el diésel', 'Fácil acceso y amplio espacio en la segunda y tercera fila de asientos', 'Alta calidad de construcción y acabados interiores'], ['Consumo', 'Equipamiento disponible', 'Opción de siete plazas sin coste'], ['Equipamiento y tecnología propios de coches de más alta gama', 'Motor híbrido potente y tracción total', 'Es un coche cómodo de conducir en toda circunstancia'], ['Practicidad y espacio disponible', 'Oferta mecánica amplia', 'Confort de marcha'], ['Amplio interior con 7 plazas de serie', 'Comodidad y refinamiento', 'Motorizaciones híbridas y eléctricas, con buena autonomía'], ['Maletero muy grande', 'Aislamiento', 'Integración de ChatGPT'], ['Variedad de motores', 'Amplio y disponible con siete plazas', 'Precio'], ['Presentación vistosa', 'Confort general', 'Uno de los pocos de su tamaño con siete plazas'], ['Versatilidad', 'Diseño', 'Variedad'], ['Versatilidad', 'Facilidad de conducción', 'Etiqueta Eco en toda la gama']]\n"
     ]
    }
   ],
   "source": [
    "#para obtener solo una copia\n",
    "lista_a_favor_def = [lista_agrupada_a_favor[i] for i in range(1, len(lista_agrupada_a_favor), 2)]\n",
    "print(lista_a_favor_def) "
   ]
  },
  {
   "cell_type": "code",
   "execution_count": 74,
   "metadata": {},
   "outputs": [
    {
     "name": "stdout",
     "output_type": "stream",
     "text": [
      "['La suspensión puede sentirse algo seca en ciertas superficies', 'Barqueo de la carrocería acusado en conducción alegre', 'Sistema multimedia algo limitado frente a algunos rivales', 'La suspensión puede sentirse algo seca en ciertas superficies', 'Barqueo de la carrocería acusado en conducción alegre', 'Sistema multimedia algo limitado frente a algunos rivales', 'Funcionamiento poco refinado en ocasiones', 'Gama reducida a una sola versión', 'Tacto del freno', 'Funcionamiento poco refinado en ocasiones', 'Gama reducida a una sola versión', 'Tacto del freno', 'Precio elevado', 'Escasa autonomía eléctrica de la versión híbrida enchufable', 'Alertas de los asistentes de conducción intrusivas y engorrosas de desconectar', 'Precio elevado', 'Escasa autonomía eléctrica de la versión híbrida enchufable', 'Alertas de los asistentes de conducción intrusivas y engorrosas de desconectar', 'Ergonomía de algunos mandos', 'Plazas de la tercera fila solo para niños', 'Motores diésel sin hibridación', 'Ergonomía de algunos mandos', 'Plazas de la tercera fila solo para niños', 'Motores diésel sin hibridación', 'La calidad del sistema multimedia podría mejorar', 'El i-Cockpit seguirá sin convencer a algunos usuarios', 'Prestaciones', 'La calidad del sistema multimedia podría mejorar', 'El i-Cockpit seguirá sin convencer a algunos usuarios', 'Prestaciones', 'PHEV solo de cinco plazas', 'La tercera fila de asientos puede quedar justa en espacio', 'Detalles de acabado', 'PHEV solo de cinco plazas', 'La tercera fila de asientos puede quedar justa en espacio', 'Detalles de acabado', 'Consumo', 'Mandos del climatizador', 'Prestaciones sólo correctas', 'Consumo', 'Mandos del climatizador', 'Prestaciones sólo correctas', 'Rumorosidad en ciertas condiciones', 'Presencia de algunos plásticos duros', 'Manejo del selector de marchas', 'Rumorosidad en ciertas condiciones', 'Presencia de algunos plásticos duros', 'Manejo del selector de marchas', 'Precio', 'Equipamiento en modelos básicos', 'Sin versiones CERO', 'Precio', 'Equipamiento en modelos básicos', 'Sin versiones CERO', 'Poca variedad mecánica', 'Tamaño', 'Manejo multimedia poco intuitivo', 'Poca variedad mecánica', 'Tamaño', 'Manejo multimedia poco intuitivo']\n"
     ]
    }
   ],
   "source": [
    "cosas_en_contra= sopa.find_all('li', class_='list-icon__item list-icon__item--negative') #valores repetidos de 3 en 3 ???\n",
    "lista_en_contra= []\n",
    "for indice, en_contra in enumerate(cosas_en_contra):\n",
    "    lista_en_contra.append(en_contra.text.strip())\n",
    "    indice += 1\n",
    "print(lista_en_contra)"
   ]
  },
  {
   "cell_type": "code",
   "execution_count": 75,
   "metadata": {},
   "outputs": [
    {
     "data": {
      "text/plain": [
       "[['La suspensión puede sentirse algo seca en ciertas superficies',\n",
       "  'Barqueo de la carrocería acusado en conducción alegre',\n",
       "  'Sistema multimedia algo limitado frente a algunos rivales'],\n",
       " ['La suspensión puede sentirse algo seca en ciertas superficies',\n",
       "  'Barqueo de la carrocería acusado en conducción alegre',\n",
       "  'Sistema multimedia algo limitado frente a algunos rivales'],\n",
       " ['Funcionamiento poco refinado en ocasiones',\n",
       "  'Gama reducida a una sola versión',\n",
       "  'Tacto del freno'],\n",
       " ['Funcionamiento poco refinado en ocasiones',\n",
       "  'Gama reducida a una sola versión',\n",
       "  'Tacto del freno'],\n",
       " ['Precio elevado',\n",
       "  'Escasa autonomía eléctrica de la versión híbrida enchufable',\n",
       "  'Alertas de los asistentes de conducción intrusivas y engorrosas de desconectar'],\n",
       " ['Precio elevado',\n",
       "  'Escasa autonomía eléctrica de la versión híbrida enchufable',\n",
       "  'Alertas de los asistentes de conducción intrusivas y engorrosas de desconectar'],\n",
       " ['Ergonomía de algunos mandos',\n",
       "  'Plazas de la tercera fila solo para niños',\n",
       "  'Motores diésel sin hibridación'],\n",
       " ['Ergonomía de algunos mandos',\n",
       "  'Plazas de la tercera fila solo para niños',\n",
       "  'Motores diésel sin hibridación'],\n",
       " ['La calidad del sistema multimedia podría mejorar',\n",
       "  'El i-Cockpit seguirá sin convencer a algunos usuarios',\n",
       "  'Prestaciones'],\n",
       " ['La calidad del sistema multimedia podría mejorar',\n",
       "  'El i-Cockpit seguirá sin convencer a algunos usuarios',\n",
       "  'Prestaciones'],\n",
       " ['PHEV solo de cinco plazas',\n",
       "  'La tercera fila de asientos puede quedar justa en espacio',\n",
       "  'Detalles de acabado'],\n",
       " ['PHEV solo de cinco plazas',\n",
       "  'La tercera fila de asientos puede quedar justa en espacio',\n",
       "  'Detalles de acabado'],\n",
       " ['Consumo', 'Mandos del climatizador', 'Prestaciones sólo correctas'],\n",
       " ['Consumo', 'Mandos del climatizador', 'Prestaciones sólo correctas'],\n",
       " ['Rumorosidad en ciertas condiciones',\n",
       "  'Presencia de algunos plásticos duros',\n",
       "  'Manejo del selector de marchas'],\n",
       " ['Rumorosidad en ciertas condiciones',\n",
       "  'Presencia de algunos plásticos duros',\n",
       "  'Manejo del selector de marchas'],\n",
       " ['Precio', 'Equipamiento en modelos básicos', 'Sin versiones CERO'],\n",
       " ['Precio', 'Equipamiento en modelos básicos', 'Sin versiones CERO'],\n",
       " ['Poca variedad mecánica', 'Tamaño', 'Manejo multimedia poco intuitivo'],\n",
       " ['Poca variedad mecánica', 'Tamaño', 'Manejo multimedia poco intuitivo']]"
      ]
     },
     "execution_count": 75,
     "metadata": {},
     "output_type": "execute_result"
    }
   ],
   "source": [
    "lista_agrupada_en_contra = agrupar_de_tres(lista_en_contra)\n",
    "lista_agrupada_en_contra"
   ]
  },
  {
   "cell_type": "code",
   "execution_count": 76,
   "metadata": {},
   "outputs": [
    {
     "name": "stdout",
     "output_type": "stream",
     "text": [
      "[['La suspensión puede sentirse algo seca en ciertas superficies', 'Barqueo de la carrocería acusado en conducción alegre', 'Sistema multimedia algo limitado frente a algunos rivales'], ['Funcionamiento poco refinado en ocasiones', 'Gama reducida a una sola versión', 'Tacto del freno'], ['Precio elevado', 'Escasa autonomía eléctrica de la versión híbrida enchufable', 'Alertas de los asistentes de conducción intrusivas y engorrosas de desconectar'], ['Ergonomía de algunos mandos', 'Plazas de la tercera fila solo para niños', 'Motores diésel sin hibridación'], ['La calidad del sistema multimedia podría mejorar', 'El i-Cockpit seguirá sin convencer a algunos usuarios', 'Prestaciones'], ['PHEV solo de cinco plazas', 'La tercera fila de asientos puede quedar justa en espacio', 'Detalles de acabado'], ['Consumo', 'Mandos del climatizador', 'Prestaciones sólo correctas'], ['Rumorosidad en ciertas condiciones', 'Presencia de algunos plásticos duros', 'Manejo del selector de marchas'], ['Precio', 'Equipamiento en modelos básicos', 'Sin versiones CERO'], ['Poca variedad mecánica', 'Tamaño', 'Manejo multimedia poco intuitivo']]\n"
     ]
    }
   ],
   "source": [
    "#para obtener solo una copia\n",
    "lista_en_contra_def = [lista_agrupada_en_contra[i] for i in range(1, len(lista_agrupada_en_contra), 2)]\n",
    "print(lista_en_contra_def) "
   ]
  },
  {
   "cell_type": "code",
   "execution_count": 77,
   "metadata": {},
   "outputs": [
    {
     "name": "stdout",
     "output_type": "stream",
     "text": [
      "['El CX-80 usa la misma plataforma y motores que el CX-60 pero es 25 cm más largo, por lo que también destaca en tacto de conducción, la fuerza y elasticidad de su motor diésel de 6 cilindros con microhibridación y un interior con acabados de lujo. Todo ello por un precio muy razonable.', 'El nuevo Renault Espace es ahora un SUV con unas plazas traseras de la tercera fila con un espacio similar al de sus rivales, con una única motorización híbrida potente y bastante eficiente. Cuenta con lo último en tecnología multimedia, con una gran pantalla central y un software desarrollado por Google que funciona con fluidez, y tiene un chasis sofisticado con un buen comportamiento y confort.', 'El Santa Fe dispone de motorizaciones híbrida e híbrida enchufable y ahora es más lujoso y refinado. Tiene un habitáculo amplio con una buena calidad de acabados, su equipamiento es abundante y es muy confortable. Digamos que lo hace todo bien pero han subido el precio también bastante.', 'El Skoda Kodiaq es mucho más barato que el Q7, sin embargo ofrece algo similar en lo que se refiere al uso familiar. Tiene un gran espacio tanto para los pasajeros como para el equipaje, motores con una buena relación entre consumo y prestaciones y tiene una construcción sólida, ideal para aguantar el \"trote\" durante muchos años.', 'El Peugeot 5008 es un coche muy redondo y coherente. Es espacioso y versátil, con un banqueta desplazable y un buen acceso a las plazas de la tercera fila y un enorme maletero, cuenta con un confort de marcha elevado, un bajo consumo y tiene un sistema multimedia muy moderno.', 'El Volkswagen Tayron es un SUV espacioso y tecnológico, que reemplaza al Tiguan Allspace pero con un diseño más distintivo, con motorizaciones híbridas y gasolina.', 'El KIA Sorento es un SUV de gran tamaño que pretende competir en el segmento de lujo. No es precisamente un coche económico, sin embargo, es uno de los mejores en cuanto a relación calidad-precio por todo lo que ofrece. Tiene un gran confort y habitabilidad, además de un equipamiento muy completo y avanzado tecnológicamente. Sus prestaciones son correctas y dinámicamente sorprende para su tamaño.', 'El X-Trail ha subido sensiblemente de nivel en cuanto a lujo y refinamiento con respecto al anterior modelo, además de tener mejores cualidades off-road con sistema tracción total realmente eficaz. Destaca la versión con el sistema híbrido e-POWER por sus prestaciones y ausencia de vibraciones. Tiene un compromiso entre confort y estabilidad en carretera muy interesante.', 'Este SUV de carrocería compacta por ofrecer capacidad para 7 pasajeros y por contar con soluciones prácticas mas propias de un monovolumen. Es un modelo que destaca por su tecnología, conectividad y asistentes a la conducción. También es un coche lujoso, cómodo y espacioso.', 'El Highlander tiene un sistema de propulsión híbrido y tiene un precio elevado, pero ya no es tan caro en comparación con sus rivales. Su consumo es realmente ajustado en toda circunstancia, su maletero es enorme y tiene una tercera fila en la que pueden viajar adultos, además de tener una parte trasera con una gran modularidad. Eso sí, está ya algo desfasado en algunos aspectos.']\n"
     ]
    }
   ],
   "source": [
    "otras_opiniciones= sopa.find_all(class_='deal-review-highlight-automated-ctas__body--no-read-more')\n",
    "lista_otras_opiniones = []\n",
    "for índice, otra_opinion in enumerate(otras_opiniciones):\n",
    "    lista_otras_opiniones.append(otra_opinion.text.strip())\n",
    "    indice += 1\n",
    "print(lista_otras_opiniones)"
   ]
  },
  {
   "cell_type": "code",
   "execution_count": 78,
   "metadata": {},
   "outputs": [
    {
     "name": "stdout",
     "output_type": "stream",
     "text": [
      "['Desde 54.669 €', 'Desde 54.669 €', 'Desde 38.280 €', 'Desde 38.280 €', 'Desde 52.229 €', 'Desde 52.229 €', 'Desde 40.001 €', 'Desde 40.001 €', 'Desde 34.885 €', 'Desde 34.885 €', 'Desde 42.981 €', 'Desde 42.981 €', 'Desde 45.963 €', 'Desde 45.963 €', 'Desde 32.660 €', 'Desde 32.660 €', 'Desde 46.330 €', 'Desde 46.330 €', 'Desde 59.790 €', 'Desde 59.790 €']\n"
     ]
    }
   ],
   "source": [
    "precios= sopa.find_all(class_='div tile-button__subtitle') # aparece dos veces cada dato en el html\n",
    "lista_precios= []\n",
    "for indice, precio in enumerate(precios):\n",
    "    lista_precios.append(precio.text.strip())\n",
    "    indice += 1\n",
    "print(lista_precios)\n",
    "    "
   ]
  },
  {
   "cell_type": "code",
   "execution_count": 79,
   "metadata": {},
   "outputs": [
    {
     "name": "stdout",
     "output_type": "stream",
     "text": [
      "['Desde 54.669 €', 'Desde 38.280 €', 'Desde 52.229 €', 'Desde 40.001 €', 'Desde 34.885 €', 'Desde 42.981 €', 'Desde 45.963 €', 'Desde 32.660 €', 'Desde 46.330 €', 'Desde 59.790 €']\n"
     ]
    }
   ],
   "source": [
    "#para obtener una lista con solo uno de los valores\n",
    "lista_def_precios = [lista_precios[i] for i in range(1, len(lista_precios), 2)]\n",
    "print(lista_def_precios) "
   ]
  },
  {
   "cell_type": "code",
   "execution_count": 80,
   "metadata": {},
   "outputs": [
    {
     "name": "stdout",
     "output_type": "stream",
     "text": [
      "['9/10', '9/10', '8/10', '8/10', '8/10', '8/10', '7/10', '9/10', '8/10', '8/10']\n"
     ]
    }
   ],
   "source": [
    "valoraciones= sopa.find_all(class_='wowscore-pill')\n",
    "lista_valoraciones=[]\n",
    "for indice, valoracion in enumerate(valoraciones):\n",
    "    lista_valoraciones.append(valoracion.text.strip())\n",
    "    indice +=1\n",
    "print(lista_valoraciones)"
   ]
  },
  {
   "cell_type": "code",
   "execution_count": 81,
   "metadata": {},
   "outputs": [
    {
     "name": "stdout",
     "output_type": "stream",
     "text": [
      "{'Nombre': ['1. Mazda CX-80', '2. Renault Espace', '3. Hyundai Santa Fe', '4. Skoda Kodiaq', '5. Peugeot 5008', '6. Volkswagen Tayron', '7. KIA Sorento', '8. Nissan X-Trail', '9. Mercedes-Benz GLB', '10. Toyota Highlander'], 'Valoraciones': ['9/10', '9/10', '8/10', '8/10', '8/10', '8/10', '7/10', '9/10', '8/10', '8/10'], 'A favor': [['Excelente eficiencia tanto en el PHEV como en el diésel', 'Fácil acceso y amplio espacio en la segunda y tercera fila de asientos', 'Alta calidad de construcción y acabados interiores'], ['Consumo', 'Equipamiento disponible', 'Opción de siete plazas sin coste'], ['Equipamiento y tecnología propios de coches de más alta gama', 'Motor híbrido potente y tracción total', 'Es un coche cómodo de conducir en toda circunstancia'], ['Practicidad y espacio disponible', 'Oferta mecánica amplia', 'Confort de marcha'], ['Amplio interior con 7 plazas de serie', 'Comodidad y refinamiento', 'Motorizaciones híbridas y eléctricas, con buena autonomía'], ['Maletero muy grande', 'Aislamiento', 'Integración de ChatGPT'], ['Variedad de motores', 'Amplio y disponible con siete plazas', 'Precio'], ['Presentación vistosa', 'Confort general', 'Uno de los pocos de su tamaño con siete plazas'], ['Versatilidad', 'Diseño', 'Variedad'], ['Versatilidad', 'Facilidad de conducción', 'Etiqueta Eco en toda la gama']], 'En contra': [['La suspensión puede sentirse algo seca en ciertas superficies', 'Barqueo de la carrocería acusado en conducción alegre', 'Sistema multimedia algo limitado frente a algunos rivales'], ['Funcionamiento poco refinado en ocasiones', 'Gama reducida a una sola versión', 'Tacto del freno'], ['Precio elevado', 'Escasa autonomía eléctrica de la versión híbrida enchufable', 'Alertas de los asistentes de conducción intrusivas y engorrosas de desconectar'], ['Ergonomía de algunos mandos', 'Plazas de la tercera fila solo para niños', 'Motores diésel sin hibridación'], ['La calidad del sistema multimedia podría mejorar', 'El i-Cockpit seguirá sin convencer a algunos usuarios', 'Prestaciones'], ['PHEV solo de cinco plazas', 'La tercera fila de asientos puede quedar justa en espacio', 'Detalles de acabado'], ['Consumo', 'Mandos del climatizador', 'Prestaciones sólo correctas'], ['Rumorosidad en ciertas condiciones', 'Presencia de algunos plásticos duros', 'Manejo del selector de marchas'], ['Precio', 'Equipamiento en modelos básicos', 'Sin versiones CERO'], ['Poca variedad mecánica', 'Tamaño', 'Manejo multimedia poco intuitivo']], 'Otras opiniones': ['El CX-80 usa la misma plataforma y motores que el CX-60 pero es 25 cm más largo, por lo que también destaca en tacto de conducción, la fuerza y elasticidad de su motor diésel de 6 cilindros con microhibridación y un interior con acabados de lujo. Todo ello por un precio muy razonable.', 'El nuevo Renault Espace es ahora un SUV con unas plazas traseras de la tercera fila con un espacio similar al de sus rivales, con una única motorización híbrida potente y bastante eficiente. Cuenta con lo último en tecnología multimedia, con una gran pantalla central y un software desarrollado por Google que funciona con fluidez, y tiene un chasis sofisticado con un buen comportamiento y confort.', 'El Santa Fe dispone de motorizaciones híbrida e híbrida enchufable y ahora es más lujoso y refinado. Tiene un habitáculo amplio con una buena calidad de acabados, su equipamiento es abundante y es muy confortable. Digamos que lo hace todo bien pero han subido el precio también bastante.', 'El Skoda Kodiaq es mucho más barato que el Q7, sin embargo ofrece algo similar en lo que se refiere al uso familiar. Tiene un gran espacio tanto para los pasajeros como para el equipaje, motores con una buena relación entre consumo y prestaciones y tiene una construcción sólida, ideal para aguantar el \"trote\" durante muchos años.', 'El Peugeot 5008 es un coche muy redondo y coherente. Es espacioso y versátil, con un banqueta desplazable y un buen acceso a las plazas de la tercera fila y un enorme maletero, cuenta con un confort de marcha elevado, un bajo consumo y tiene un sistema multimedia muy moderno.', 'El Volkswagen Tayron es un SUV espacioso y tecnológico, que reemplaza al Tiguan Allspace pero con un diseño más distintivo, con motorizaciones híbridas y gasolina.', 'El KIA Sorento es un SUV de gran tamaño que pretende competir en el segmento de lujo. No es precisamente un coche económico, sin embargo, es uno de los mejores en cuanto a relación calidad-precio por todo lo que ofrece. Tiene un gran confort y habitabilidad, además de un equipamiento muy completo y avanzado tecnológicamente. Sus prestaciones son correctas y dinámicamente sorprende para su tamaño.', 'El X-Trail ha subido sensiblemente de nivel en cuanto a lujo y refinamiento con respecto al anterior modelo, además de tener mejores cualidades off-road con sistema tracción total realmente eficaz. Destaca la versión con el sistema híbrido e-POWER por sus prestaciones y ausencia de vibraciones. Tiene un compromiso entre confort y estabilidad en carretera muy interesante.', 'Este SUV de carrocería compacta por ofrecer capacidad para 7 pasajeros y por contar con soluciones prácticas mas propias de un monovolumen. Es un modelo que destaca por su tecnología, conectividad y asistentes a la conducción. También es un coche lujoso, cómodo y espacioso.', 'El Highlander tiene un sistema de propulsión híbrido y tiene un precio elevado, pero ya no es tan caro en comparación con sus rivales. Su consumo es realmente ajustado en toda circunstancia, su maletero es enorme y tiene una tercera fila en la que pueden viajar adultos, además de tener una parte trasera con una gran modularidad. Eso sí, está ya algo desfasado en algunos aspectos.'], 'Precio': ['Desde 54.669 €', 'Desde 38.280 €', 'Desde 52.229 €', 'Desde 40.001 €', 'Desde 34.885 €', 'Desde 42.981 €', 'Desde 45.963 €', 'Desde 32.660 €', 'Desde 46.330 €', 'Desde 59.790 €']}\n"
     ]
    }
   ],
   "source": [
    "diccionario_coches = {\n",
    "    'Nombre': lista_coches,\n",
    "    'Valoraciones': lista_valoraciones,\n",
    "    'A favor': lista_a_favor_def,\n",
    "    'En contra': lista_en_contra_def,\n",
    "    'Otras opiniones': lista_otras_opiniones,\n",
    "    'Precio': lista_def_precios\n",
    "   \n",
    "}\n",
    "\n",
    "print(diccionario_coches)"
   ]
  },
  {
   "cell_type": "code",
   "execution_count": 82,
   "metadata": {},
   "outputs": [
    {
     "data": {
      "text/html": [
       "<div>\n",
       "<style scoped>\n",
       "    .dataframe tbody tr th:only-of-type {\n",
       "        vertical-align: middle;\n",
       "    }\n",
       "\n",
       "    .dataframe tbody tr th {\n",
       "        vertical-align: top;\n",
       "    }\n",
       "\n",
       "    .dataframe thead th {\n",
       "        text-align: right;\n",
       "    }\n",
       "</style>\n",
       "<table border=\"1\" class=\"dataframe\">\n",
       "  <thead>\n",
       "    <tr style=\"text-align: right;\">\n",
       "      <th></th>\n",
       "      <th>Nombre</th>\n",
       "      <th>Valoraciones</th>\n",
       "      <th>A favor</th>\n",
       "      <th>En contra</th>\n",
       "      <th>Otras opiniones</th>\n",
       "      <th>Precio</th>\n",
       "    </tr>\n",
       "  </thead>\n",
       "  <tbody>\n",
       "    <tr>\n",
       "      <th>0</th>\n",
       "      <td>1. Mazda CX-80</td>\n",
       "      <td>9/10</td>\n",
       "      <td>[Excelente eficiencia tanto en el PHEV como en...</td>\n",
       "      <td>[La suspensión puede sentirse algo seca en cie...</td>\n",
       "      <td>El CX-80 usa la misma plataforma y motores que...</td>\n",
       "      <td>Desde 54.669 €</td>\n",
       "    </tr>\n",
       "    <tr>\n",
       "      <th>1</th>\n",
       "      <td>2. Renault Espace</td>\n",
       "      <td>9/10</td>\n",
       "      <td>[Consumo, Equipamiento disponible, Opción de s...</td>\n",
       "      <td>[Funcionamiento poco refinado en ocasiones, Ga...</td>\n",
       "      <td>El nuevo Renault Espace es ahora un SUV con un...</td>\n",
       "      <td>Desde 38.280 €</td>\n",
       "    </tr>\n",
       "    <tr>\n",
       "      <th>2</th>\n",
       "      <td>3. Hyundai Santa Fe</td>\n",
       "      <td>8/10</td>\n",
       "      <td>[Equipamiento y tecnología propios de coches d...</td>\n",
       "      <td>[Precio elevado, Escasa autonomía eléctrica de...</td>\n",
       "      <td>El Santa Fe dispone de motorizaciones híbrida ...</td>\n",
       "      <td>Desde 52.229 €</td>\n",
       "    </tr>\n",
       "    <tr>\n",
       "      <th>3</th>\n",
       "      <td>4. Skoda Kodiaq</td>\n",
       "      <td>8/10</td>\n",
       "      <td>[Practicidad y espacio disponible, Oferta mecá...</td>\n",
       "      <td>[Ergonomía de algunos mandos, Plazas de la ter...</td>\n",
       "      <td>El Skoda Kodiaq es mucho más barato que el Q7,...</td>\n",
       "      <td>Desde 40.001 €</td>\n",
       "    </tr>\n",
       "    <tr>\n",
       "      <th>4</th>\n",
       "      <td>5. Peugeot 5008</td>\n",
       "      <td>8/10</td>\n",
       "      <td>[Amplio interior con 7 plazas de serie, Comodi...</td>\n",
       "      <td>[La calidad del sistema multimedia podría mejo...</td>\n",
       "      <td>El Peugeot 5008 es un coche muy redondo y cohe...</td>\n",
       "      <td>Desde 34.885 €</td>\n",
       "    </tr>\n",
       "    <tr>\n",
       "      <th>5</th>\n",
       "      <td>6. Volkswagen Tayron</td>\n",
       "      <td>8/10</td>\n",
       "      <td>[Maletero muy grande, Aislamiento, Integración...</td>\n",
       "      <td>[PHEV solo de cinco plazas, La tercera fila de...</td>\n",
       "      <td>El Volkswagen Tayron es un SUV espacioso y tec...</td>\n",
       "      <td>Desde 42.981 €</td>\n",
       "    </tr>\n",
       "    <tr>\n",
       "      <th>6</th>\n",
       "      <td>7. KIA Sorento</td>\n",
       "      <td>7/10</td>\n",
       "      <td>[Variedad de motores, Amplio y disponible con ...</td>\n",
       "      <td>[Consumo, Mandos del climatizador, Prestacione...</td>\n",
       "      <td>El KIA Sorento es un SUV de gran tamaño que pr...</td>\n",
       "      <td>Desde 45.963 €</td>\n",
       "    </tr>\n",
       "    <tr>\n",
       "      <th>7</th>\n",
       "      <td>8. Nissan X-Trail</td>\n",
       "      <td>9/10</td>\n",
       "      <td>[Presentación vistosa, Confort general, Uno de...</td>\n",
       "      <td>[Rumorosidad en ciertas condiciones, Presencia...</td>\n",
       "      <td>El X-Trail ha subido sensiblemente de nivel en...</td>\n",
       "      <td>Desde 32.660 €</td>\n",
       "    </tr>\n",
       "    <tr>\n",
       "      <th>8</th>\n",
       "      <td>9. Mercedes-Benz GLB</td>\n",
       "      <td>8/10</td>\n",
       "      <td>[Versatilidad, Diseño, Variedad]</td>\n",
       "      <td>[Precio, Equipamiento en modelos básicos, Sin ...</td>\n",
       "      <td>Este SUV de carrocería compacta por ofrecer ca...</td>\n",
       "      <td>Desde 46.330 €</td>\n",
       "    </tr>\n",
       "    <tr>\n",
       "      <th>9</th>\n",
       "      <td>10. Toyota Highlander</td>\n",
       "      <td>8/10</td>\n",
       "      <td>[Versatilidad, Facilidad de conducción, Etique...</td>\n",
       "      <td>[Poca variedad mecánica, Tamaño, Manejo multim...</td>\n",
       "      <td>El Highlander tiene un sistema de propulsión h...</td>\n",
       "      <td>Desde 59.790 €</td>\n",
       "    </tr>\n",
       "  </tbody>\n",
       "</table>\n",
       "</div>"
      ],
      "text/plain": [
       "                  Nombre Valoraciones  \\\n",
       "0         1. Mazda CX-80         9/10   \n",
       "1      2. Renault Espace         9/10   \n",
       "2    3. Hyundai Santa Fe         8/10   \n",
       "3        4. Skoda Kodiaq         8/10   \n",
       "4        5. Peugeot 5008         8/10   \n",
       "5   6. Volkswagen Tayron         8/10   \n",
       "6         7. KIA Sorento         7/10   \n",
       "7      8. Nissan X-Trail         9/10   \n",
       "8   9. Mercedes-Benz GLB         8/10   \n",
       "9  10. Toyota Highlander         8/10   \n",
       "\n",
       "                                             A favor  \\\n",
       "0  [Excelente eficiencia tanto en el PHEV como en...   \n",
       "1  [Consumo, Equipamiento disponible, Opción de s...   \n",
       "2  [Equipamiento y tecnología propios de coches d...   \n",
       "3  [Practicidad y espacio disponible, Oferta mecá...   \n",
       "4  [Amplio interior con 7 plazas de serie, Comodi...   \n",
       "5  [Maletero muy grande, Aislamiento, Integración...   \n",
       "6  [Variedad de motores, Amplio y disponible con ...   \n",
       "7  [Presentación vistosa, Confort general, Uno de...   \n",
       "8                   [Versatilidad, Diseño, Variedad]   \n",
       "9  [Versatilidad, Facilidad de conducción, Etique...   \n",
       "\n",
       "                                           En contra  \\\n",
       "0  [La suspensión puede sentirse algo seca en cie...   \n",
       "1  [Funcionamiento poco refinado en ocasiones, Ga...   \n",
       "2  [Precio elevado, Escasa autonomía eléctrica de...   \n",
       "3  [Ergonomía de algunos mandos, Plazas de la ter...   \n",
       "4  [La calidad del sistema multimedia podría mejo...   \n",
       "5  [PHEV solo de cinco plazas, La tercera fila de...   \n",
       "6  [Consumo, Mandos del climatizador, Prestacione...   \n",
       "7  [Rumorosidad en ciertas condiciones, Presencia...   \n",
       "8  [Precio, Equipamiento en modelos básicos, Sin ...   \n",
       "9  [Poca variedad mecánica, Tamaño, Manejo multim...   \n",
       "\n",
       "                                     Otras opiniones          Precio  \n",
       "0  El CX-80 usa la misma plataforma y motores que...  Desde 54.669 €  \n",
       "1  El nuevo Renault Espace es ahora un SUV con un...  Desde 38.280 €  \n",
       "2  El Santa Fe dispone de motorizaciones híbrida ...  Desde 52.229 €  \n",
       "3  El Skoda Kodiaq es mucho más barato que el Q7,...  Desde 40.001 €  \n",
       "4  El Peugeot 5008 es un coche muy redondo y cohe...  Desde 34.885 €  \n",
       "5  El Volkswagen Tayron es un SUV espacioso y tec...  Desde 42.981 €  \n",
       "6  El KIA Sorento es un SUV de gran tamaño que pr...  Desde 45.963 €  \n",
       "7  El X-Trail ha subido sensiblemente de nivel en...  Desde 32.660 €  \n",
       "8  Este SUV de carrocería compacta por ofrecer ca...  Desde 46.330 €  \n",
       "9  El Highlander tiene un sistema de propulsión h...  Desde 59.790 €  "
      ]
     },
     "execution_count": 82,
     "metadata": {},
     "output_type": "execute_result"
    }
   ],
   "source": [
    "df = pd.DataFrame.from_dict(diccionario_coches)\n",
    "df"
   ]
  },
  {
   "cell_type": "code",
   "execution_count": 83,
   "metadata": {},
   "outputs": [],
   "source": [
    "url_2='https://www.autohero.com/es/consejos/elegir/mejor-coche/suv-7-plazas/'"
   ]
  },
  {
   "cell_type": "code",
   "execution_count": 84,
   "metadata": {},
   "outputs": [
    {
     "name": "stdout",
     "output_type": "stream",
     "text": [
      "200 OK\n"
     ]
    }
   ],
   "source": [
    "prueba_2 = requests.get(url_2)\n",
    "print(prueba_2.status_code, prueba.reason)\n",
    "sopa = bs(prueba_2.text, \"lxml\")"
   ]
  },
  {
   "cell_type": "code",
   "execution_count": 85,
   "metadata": {},
   "outputs": [
    {
     "data": {
      "text/plain": [
       "[<h3 class=\"title___HASgI title___2DV4T underline___dbvD3 variant-h2___1eoCd color-secondary___3vq1b weight-normal___25n2H align-center___17w2J\" id=\"volvo-xc90\">Volvo XC90</h3>,\n",
       " <h3 class=\"title___HASgI title___2DV4T underline___dbvD3 variant-h2___1eoCd color-secondary___3vq1b weight-normal___25n2H align-center___17w2J\" id=\"audi-q7\">Audi Q7</h3>,\n",
       " <h3 class=\"title___HASgI title___2DV4T underline___dbvD3 variant-h2___1eoCd color-secondary___3vq1b weight-normal___25n2H align-center___17w2J\" id=\"mercedes-benz-clase-glb\">Mercedes-Benz Clase GLB</h3>,\n",
       " <h3 class=\"title___HASgI title___2DV4T underline___dbvD3 variant-h2___1eoCd color-secondary___3vq1b weight-normal___25n2H align-center___17w2J\" id=\"hyundai-santa-fe\">Hyundai Santa Fe</h3>,\n",
       " <h3 class=\"title___HASgI title___2DV4T underline___dbvD3 variant-h2___1eoCd color-secondary___3vq1b weight-normal___25n2H align-center___17w2J\" id=\"kia-sorento\">Kia Sorento</h3>,\n",
       " <h3 class=\"title___HASgI title___2DV4T underline___dbvD3 variant-h2___1eoCd color-secondary___3vq1b weight-normal___25n2H align-center___17w2J\" id=\"peugeot-5008\">Peugeot 5008</h3>,\n",
       " <h3 class=\"title___HASgI title___2DV4T underline___dbvD3 variant-h2___1eoCd color-secondary___3vq1b weight-normal___25n2H align-center___17w2J\" id=\"seat-tarraco\">SEAT Tarraco</h3>,\n",
       " <h3 class=\"title___HASgI title___2DV4T underline___dbvD3 variant-h2___1eoCd color-secondary___3vq1b weight-normal___25n2H align-center___17w2J\" id=\"skoda-kodiaq\">Skoda Kodiaq</h3>,\n",
       " <h3 class=\"title___HASgI title___2DV4T underline___dbvD3 variant-h2___1eoCd color-secondary___3vq1b weight-normal___25n2H align-center___17w2J\" id=\"nissan-x-trail\">Nissan X-Trail</h3>,\n",
       " <h3 class=\"title___HASgI title___2DV4T underline___dbvD3 variant-h2___1eoCd color-secondary___3vq1b weight-normal___25n2H align-center___17w2J\" id=\"mitsubishi-outlander\">Mitsubishi Outlander</h3>]"
      ]
     },
     "execution_count": 85,
     "metadata": {},
     "output_type": "execute_result"
    }
   ],
   "source": [
    "coches_2 = sopa.find_all( 'h3', class_=\"title___HASgI title___2DV4T underline___dbvD3 variant-h2___1eoCd color-secondary___3vq1b weight-normal___25n2H align-center___17w2J\")\n",
    "coches_2"
   ]
  },
  {
   "cell_type": "code",
   "execution_count": null,
   "metadata": {},
   "outputs": [
    {
     "name": "stdout",
     "output_type": "stream",
     "text": [
      "['1. Mazda CX-80', '2. Renault Espace', '3. Hyundai Santa Fe', '4. Skoda Kodiaq', '5. Peugeot 5008', '6. Volkswagen Tayron', '7. KIA Sorento', '8. Nissan X-Trail', '9. Mercedes-Benz GLB', '10. Toyota Highlander', 'Volvo XC90', 'Audi Q7', 'Mercedes-Benz Clase GLB', 'Hyundai Santa Fe', 'Kia Sorento', 'Peugeot 5008', 'SEAT Tarraco', 'Skoda Kodiaq', 'Nissan X-Trail', 'Mitsubishi Outlander']\n"
     ]
    }
   ],
   "source": [
    "#coches segunda página opiniones, actualizo listas\n",
    "coches_2 = sopa.find_all( 'h3', class_=\"title___HASgI title___2DV4T underline___dbvD3 variant-h2___1eoCd color-secondary___3vq1b weight-normal___25n2H align-center___17w2J\")\n",
    "for indice, coche in enumerate(coches_2):\n",
    "    lista_coches.append(coche.text.strip())\n",
    "    indice += 1\n",
    "print(lista_coches)"
   ]
  },
  {
   "cell_type": "code",
   "execution_count": 87,
   "metadata": {},
   "outputs": [
    {
     "name": "stdout",
     "output_type": "stream",
     "text": [
      "['9/10', '9/10', '8/10', '8/10', '8/10', '8/10', '7/10', '9/10', '8/10', '8/10', 'NaN', 'NaN', 'NaN', 'NaN', 'NaN', 'NaN', 'NaN', 'NaN', 'NaN', 'NaN']\n"
     ]
    }
   ],
   "source": [
    "valoraciones_2 = ('NaN','NaN','NaN','NaN','NaN','NaN','NaN','NaN','NaN','NaN') # cumplimento con NaN porque en esta página no hay valoraciones\n",
    "for indice, valoracion in enumerate(valoraciones_2):\n",
    "    lista_valoraciones.append(valoracion)\n",
    "    indice +=1\n",
    "print(lista_valoraciones)\n"
   ]
  },
  {
   "cell_type": "code",
   "execution_count": null,
   "metadata": {},
   "outputs": [
    {
     "name": "stdout",
     "output_type": "stream",
     "text": [
      "La fiebre de los SUV sigue creciendo en España, y tanto los SUV pequeños como los de mayor tamaño han ganado cuota de mercado en los últimos años. En esta guía, seleccionamos los mejores SUV con 7 plazas, destacando ventajas como la amplitud del habitáculo y la gran capacidad de carga del maletero.\n",
      "Si formas parte de una familia numerosa, es fundamental encontrar un vehículo amplio y modular que asegure la comodidad de todos los pasajeros. Tanto para los desplazamientos diarios como para viajes largos, opta por un coche con un gran volumen de maletero y una excelente habitabilidad. Los coches con 7 asientos, especialmente los SUV, son ideales, ofreciendo espacio y flexibilidad.Actualmente, los SUV han reemplazado al monovolumen como la opción preferida para las familias grandes. Estos SUV no solo brindan más espacio, sino también una mejor capacidad off-road y mayor versatilidad para distintos tipos de terrenos y condiciones climáticas.Al seleccionar un SUV de siete plazas, es importante considerar la eficiencia de combustible, las tecnologías de seguridad avanzadas, las opciones de motorización híbrida o eléctrica y el nivel de equipamiento interior.Estos vehículos son perfectos para quienes buscan un balance entre espacio, confort y funcionalidad. Con múltiples configuraciones de asientos, amplios compartimientos de carga y diversas tecnologías, mejoran tanto la experiencia de conducción como la seguridad de todos los ocupantes.Evalua la eficiencia de combustible, el espacio interior, las opciones de motorización, las características de seguridad y las tecnologías de asistencia al conductor. Otros aspectos que también deberías considerar son la capacidad de carga y el rendimiento en diferentes terrenos.En esta guía, presentamos los mejores SUV de siete plazas del mercado, destacando sus principales características, ventajas y desventajas.Descubre nuestra selección y encuentra el mejor coche con siete asientos:Volvo XC90 Audi Q7 Mercedes-Benz Clase GLB Hyundai Santa Fe Kia Sorento Peugeot 5008 SEAT Tarraco Skoda Kodiaq Nissan X-Trail Mitsubishi Outlander\n",
      "El Volvo XC90 es un SUV de 7 plazas que destaca por su espacioso interior y diseño ergonómico. Con una longitud de 4,95 metros, ofrece un maletero de 692 litros con cinco asientos en uso y 314 litros con las siete plazas ocupadas. Los asientos son ajustables individualmente, optimizando el confort para todos los ocupantes, incluso en la tercera fila, donde pueden viajar adultos de hasta 170 cm.El interior está acabado con materiales de alta calidad como cuero y madera, y el puesto de conducción está diseñado para una experiencia intuitiva. Además, el XC90 viene equipado de serie con tecnologías como control de crucero adaptativo y faros LED. Sin embargo, la suspensión puede resultar firme a bajas velocidades y el sistema de infoentretenimiento depende en gran medida de la pantalla táctil.Ventajas del Volvo XC90Materiales interiores premium.Confort excepcional en todos los asientos.Equipamiento tecnológico avanzado.Desventajas del Volvo XC90Suspensión firme a bajas velocidades.Sistema de infoentretenimiento dependiente de la pantalla táctil.¿Por qué recomendamos el Volvo XC90?Este SUV de origen sueco combina lujo, espacio y versatilidad. Su interior de alta calidad, junto con su capacidad para siete ocupantes y un generoso maletero, lo hacen ideal para familias que buscan confort y practicidad. Además, su equipamiento de seguridad y tecnología lo posiciona como una excelente opción en su segmento.Lujo, seguridad y estilo: el XC90 es perfecto para familias que lo quieren todo.Volvo XC90\n",
      "El Audi Q7 es un SUV de 7 plazas que combina un diseño atlético con un interior espacioso. Con una longitud de 5,052 mm, ofrece un maletero de 780 litros, ampliable a 1,908 litros con los asientos abatidos. Los motores disponibles van desde 231 CV en la versión diésel hasta 507 CV en la versión SQ7, proporcionando una conducción potente y controlada gracias a la tracción quattro y la suspensión neumática adaptativa.El interior lujoso del Q7 incluye tecnologías avanzadas como el Audi virtual cockpit y los faros Matrix LED HD con función láser. Sin embargo, el consumo de combustible es elevado, especialmente en las versiones de gasolina, y su gran tamaño puede ser un inconveniente en entornos urbanos.Ventajas del Audi Q7Motores potentes y variados.Tracción quattro y suspensión adaptativa.Interior lujoso y tecnología avanzada.Desventajas del Audi Q7Consumo de combustible elevado.Precio inicial alto.Tamaño que dificulta la maniobrabilidad en ciudad.¿Por qué recomendamos el Audi Q7?Recomendamos el Audi Q7 por su combinación de lujo, espacio y tecnología avanzada. Es ideal para familias que buscan confort y prestaciones sin comprometer el estilo. Su versatilidad, desde la ciudad hasta el todoterreno, lo convierte en una opción atractiva para quienes desean un SUV premium de gran tamaño.Amantes de la tecnología: ¡este es vuestro SUV! Deportivo, elegante y lleno de gadgets.Audi Q7\n",
      "El Mercedes-Benz Clase GLB es un SUV de 7 plazas versátil con configuraciones de cinco o siete asientos. Con una longitud de 4,63 metros, ofrece un maletero de 560 litros en la versión de cinco asientos. El interior es modular, con asientos traseros deslizables y reclinables, maximizando la flexibilidad y el espacio disponible.El GLB cuenta con tecnología como el sistema multimedia MBUX y la instrumentación digital. Además, la calidad de los acabados es superior, aunque algunas opciones pueden ser costosas. La tercera fila es adecuada para pasajeros de hasta 1,70 metros y puede ser difícil de acceder.Ventajas del Mercedes-Benz Clase GLBInterior modular con asientos ajustables.Tecnología avanzada (MBUX).Calidad de los acabados superior.Desventajas del Mercedes-Benz Clase GLBPrecio de opciones elevado.Tercera fila adecuada solo para pasajeros pequeños.Acceso complicado a la tercera fila.¿Por qué recomendamos el Mercedes-Benz Clase GLB?Recomendamos el GLB por su versatilidad y practicidad excepcionales. Combina el lujo de Mercedes con un espacio interior impresionante y la opción de siete plazas, algo poco común en su segmento. Su diseño inteligente y tecnología avanzada lo convierten en una excelente opción para familias que buscan un SUV premium y funcional.¿Buscas lujo compacto con espacio para siete? El GLB es ideal para la ciudad y la familia.Mercedes-Benz Clase GLB\n",
      "El Hyundai Santa Fe es un SUV de 7 plazas con un diseño moderno y un interior flexible. Con una longitud de 4,83 metros, ofrece un maletero de 725 litros con cinco asientos. Los asientos son calefactados y ventilados, y la conducción es suave, ideal para viajes largos gracias a su diseño orientado al confort.Incluye una pantalla táctil de 12,3 pulgadas en su sistema multimedia y avanzados sistemas de seguridad. Sin embargo, la tercera fila puede ser ajustada para adultos altos y algunos materiales interiores, aunque ecológicos, pueden parecer menos lujosos comparados con otros modelos premium.Ventajas del Hyundai Santa FeDiseño moderno y asientos cómodos.Pantalla táctil grande y clara.Sistemas de seguridad avanzados.Desventajas del Hyundai Santa FeTercera fila ajustada para adultos altos.Algunos materiales interiores menos lujosos.Consumo de combustible elevado en versiones potentes.¿Por qué recomendamos el Hyundai Santa Fe?Recomendamos el Hyundai Santa Fe por su excelente equilibrio entre espacio, confort y tecnología. Es ideal para familias que buscan un SUV versátil y bien equipado. Su capacidad todoterreno y opciones de motorización híbrida lo hacen atractivo para diversos estilos de vida.Asequible, fiable y lleno de equipamiento... ¡el Santa Fe es tu aliado diario!Hyundai Santa Fe\n",
      "El Kia Sorento es un SUV de 7 plazas que destaca por su diseño exterior renovado y un interior moderno. Con una longitud de 4,81 metros, ofrece configuraciones de asientos flexibles y una conducción cómoda gracias a su mejorada visibilidad y capó elevado. El sistema de infoentretenimiento incluye dos pantallas de 12,3 pulgadas y opciones de seguridad avanzadas.La tercera fila puede ser ajustada para adultos, y el espacio de carga se reduce significativamente al utilizarla. Además, en altitudes elevadas, se puede notar una ligera pérdida de potencia en el motor, dependiendo de la versión.Ventajas del Kia SorentoDiseño moderno y flexible.Pantallas avanzadas y claras.Conducción cómoda y segura.Desventajas del Kia SorentoTercera fila ajustada para adultos.Espacio de carga reducido con tercera fila en uso.Pérdida de potencia en altitudes elevadas.¿Por qué recomendamos el Kia Sorento?Recomendamos el Kia Sorento por su versatilidad y equilibrio entre comodidad, tecnología y capacidad. Es ideal para familias que buscan un SUV espacioso con asientos flexibles. Su combinación de características avanzadas, diseño moderno y capacidad de remolque mejorada lo convierte en una opción atractiva en su segmento.Estilo, eficiencia y enfoque familiar. ¡El Sorento lo tiene todo!Kia Sorento\n",
      "El Peugeot 5008 es uno de los SUV de 7 plazas más populares gracias a su diseño moderno y amplio espacio. Con una longitud de 4,79 metros, ofrece un maletero de 748 litros con cinco asientos y hasta 1,815 litros con todos los asientos abatidos. La segunda fila cuenta con tres asientos individuales ajustables, mejorando la comodidad y flexibilidad.El interior incluye el i-Cockpit mejorado con una pantalla panorámica curva de 21 pulgadas, aportando un toque futurista y tecnológico. Sin embargo, la tercera fila puede ser ajustada para adultos altos y el espacio de carga se reduce considerablemente al utilizar las siete plazas.Ventajas del Peugeot 5008Diseño moderno y atractivo.Pantalla panorámica grande y avanzada.Segunda fila de asientos ajustables individualmente.Desventajas del Peugeot 5008Tercera fila ajustada para adultos altos.Espacio de carga limitado con siete plazas en uso.Algunos materiales interiores menos lujosos.¿Por qué recomendamos el Peugeot 5008?Recomendamos el Peugeot 5008 por su versatilidad y equilibrio entre espacio, tecnología y diseño. Es ideal para familias numerosas que buscan un SUV espacioso con asientos flexibles. Su combinación de características avanzadas, diseño moderno y capacidad de configuración lo convierte en una opción atractiva en su segmento.¡Elegancia europea y practicidad! El 5008 es perfecto para viajes cómodos y familias grandes.Peugeot 5008\n",
      "El SEAT Tarraco es un SUV de 7 plazas versátil con configuraciones de cinco o siete asientos. Con una longitud de 4,73 metros, ofrece un maletero de 760 litros en la versión de cinco asientos y 700 litros en la de siete. El interior es espacioso y está bien acabado, con materiales de alta calidad y una pantalla táctil de al menos 8 pulgadas.Incluye avanzados sistemas de asistencia a la conducción, como control de crucero adaptativo y frenado de emergencia automático. Sin embargo, no es el modelo más deportivo de la gama y el precio inicial puede ser elevado para algunos compradores.Ventajas del SEAT TarracoEspacio interior amplio y bien acabado.Sistemas de asistencia avanzados.Buena conectividad (Apple CarPlay, Android Auto).Desventajas del SEAT TarracoNo es el más deportivo de la gama.Falta de una versión TGI de Gas Natural Comprimido.Precio inicial elevado.¿Por qué recomendamos el SEAT Tarraco?Recomendamos el SEAT Tarraco por su combinación de espacio, versatilidad y tecnología. Es ideal para familias que necesitan amplitud y confort. Su gama de motores, que incluye opciones de hasta 200 CV, y la futura variante híbrida enchufable, lo convierten en una opción atractiva en su segmento. Además, puedes encontrar precios más asequibles en el mercado de segunda mano.Espacioso y versátil, con toques deportivos: el Tarraco está hecho para familias activas.SEAT Tarraco\n",
      "El Skoda Kodiaq es un SUV de 7 plazas con un diseño moderno y un interior práctico. Con una longitud de 4,76 metros, ofrece un maletero espacioso y un interior bien diseñado. El equipamiento incluye una pantalla central de 12,9 pulgadas y mandos rotatorios Smart Dials en el salpicadero, facilitando el control de las funciones del vehículo.Cuenta con asistentes de conducción avanzados como Emergency Assist y un sistema de aparcamiento remoto. Sin embargo, puede resultar estrecho para cinco adultos o tres niños en sillas, y el ajuste del chasis DCC no es tan equilibrado como en modelos de Volkswagen. Además, el ruido del motor diésel en ciudad puede ser perceptible.Ventajas del Skoda KodiaqInterior bien diseñado y espacioso.Equipamiento tecnológico avanzado.Buenas opciones de motorización.Desventajas del Skoda KodiaqEspacio ajustado para cinco adultos.Chasis menos equilibrado que en competidores.Ruido perceptible del motor diésel.¿Por qué recomendamos el Skoda Kodiaq?Recomendamos el Skoda Kodiaq por su combinación de espacio, practicidad y tecnología. Es ideal para familias que buscan confort en viajes largos, con un consumo razonable y opciones de motorización variadas, incluyendo versiones diésel, gasolina e híbrida enchufable. Su enfoque en la facilidad de uso y su equipamiento abundante lo hacen destacar en su segmento.¿Buscas un SUV amplio y económico? ¡El Kodiaq es el rey de la relación calidad-precio!Skoda Kodiaq\n",
      "El Nissan X-Trail es un SUV robusto y sofisticado con configuraciones de 5 o 7 plazas. Con una longitud de 4.680 mm, ofrece un maletero de 585 litros en la versión de 5 asientos. Destaca por su sistema e-Power, que utiliza un motor de gasolina para generar electricidad y mover el vehículo eléctricamente, ofreciendo una conducción suave y eficiente.El interior es espacioso y versátil, con asientos traseros deslizables y reclinables. Incluye avanzadas asistencias a la conducción, como control de crucero adaptativo y frenado de emergencia automático. Sin embargo, el consumo de combustible puede ser mayor al anunciado y la aceleración puede sentirse menos ágil a velocidades medias en comparación con vehículos eléctricos puros.Ventajas del Nissan X-TrailSistema e-Power eficiente.Interior espacioso y versátil.Buen equipamiento de seguridad.Desventajas del Nissan X-TrailConsumo de combustible mayor al anunciado.Aceleración menos ágil en velocidades medias.Tercera fila ajustada para adultos.¿Por qué recomendamos el Nissan X-Trail?Recomendamos el Nissan X-Trail por su combinación de espacio, confort y tecnología avanzada. Es ideal para familias que buscan un SUV versátil con opciones de 5 o 7 plazas. Su sistema e-Power ofrece una experiencia de conducción suave y eficiente, mientras que su amplio equipamiento de seguridad y asistencias lo convierten en una opción atractiva en su segmento.¿Listo para aventuras con espacio para todos? El X-Trail te acompaña en todas tus escapadas rurales.Nissan X-Trail\n",
      "El Mitsubishi Outlander es un SUV de 7 plazas con un diseño versátil y práctico. Con una longitud de 4,71 metros, ofrece un maletero de 585 litros en la versión de 5 asientos. Su motor de 2,5 litros MIVEC DOHC de 4 cilindros genera 181 caballos de fuerza, y la transmisión es continuamente variable (CVT), asegurando una conducción suave.El interior es espacioso, con un panel digital y una pantalla de 9 pulgadas con conectividad inalámbrica. Ofrece siete modos de conducción diferentes y un sistema de audio Bose de nueve altavoces. Sin embargo, la tercera fila de asientos puede resultar ajuastada para adultos y el piso del maletero no queda completamente plano al abatir los asientos.Ventajas del Mitsubishi OutlanderEspacio interior amplio y versátil.Buena conectividad y sistema de audio.Equipamiento de seguridad completo.Desventajas del Mitsubishi OutlanderTercera fila ajustada para adultos.Piso del maletero no completamente plano.Algunos elementos podrían mejorar con tecnología LED.¿Por qué recomendamos el Mitsubishi Outlander?Recomendamos el Outlander por su combinación de espacio, confort y tecnología avanzada. Es ideal para familias que buscan un SUV versátil con opciones de 5 o 7 plazas. Su equipamiento de seguridad y asistencias lo convierten en una opción atractiva en su segmento, ofreciendo un alto valor por su precio.Ecológico y familiar: la versión híbrida del Outlander es perfecta si buscas un SUV de 7 plazas eficiente.Mitsubishi Outlander\n",
      "Esperamos que esta lista te haya ayudado a identificar las mejores opciones para un coche de 7 plazas que se ajuste a tus necesidades y preferencias.En Autohero, no solo encontrarás una amplia selección de SUV de 7 plazas, sino que también ofrecemos opciones de financiación adaptadas a tu presupuesto, facilitando la adquisición del vehículo ideal para ti y tu familia. Además, todos nuestros coches cumplen con el estándar de calidad de Autohero, garantizando una compra segura y confiable. Te recomendamos explorar nuestra lista de los 10 mejores coches familiares baratos. ¡Calcula tu presupuesto mensual ahora!SUV de 7 plazas\n",
      "Coches de lujo y alta gama de segunda mano\n",
      "Nuestro Top 10 en coches híbridos\n",
      "Mejor SUV - Nuestra selección\n",
      "Mejor SUV híbrido enchufable\n",
      "Los mejores coches grandes y baratos\n",
      "El Fiat 500L de un vistazo\n",
      "Los mejores coches con maletero grande\n",
      "SUV con maletero grande\n",
      "Mejor coche alto\n",
      "BMW X3 vs. BMW X5\n",
      "Encuentra tu Volvo en Madrid\n"
     ]
    }
   ],
   "source": [
    "info_2= sopa.find_all('div', class_=\"text___3mq1J\")\n",
    "for cosa in info_2:\n",
    "    print(cosa.text.strip())\n"
   ]
  },
  {
   "cell_type": "code",
   "execution_count": 96,
   "metadata": {},
   "outputs": [
    {
     "ename": "AttributeError",
     "evalue": "ResultSet object has no attribute \"descendants\". You're probably treating a list of elements like a single element. Did you call find_all() when you meant to call find()?",
     "output_type": "error",
     "traceback": [
      "\u001b[31m---------------------------------------------------------------------------\u001b[39m",
      "\u001b[31mAttributeError\u001b[39m                            Traceback (most recent call last)",
      "\u001b[36mCell\u001b[39m\u001b[36m \u001b[39m\u001b[32mIn[96]\u001b[39m\u001b[32m, line 3\u001b[39m\n\u001b[32m      1\u001b[39m info_2= sopa.find_all(\u001b[33m'\u001b[39m\u001b[33mdiv\u001b[39m\u001b[33m'\u001b[39m, class_=\u001b[33m\"\u001b[39m\u001b[33mtext___3mq1J\u001b[39m\u001b[33m\"\u001b[39m)\n\u001b[32m      2\u001b[39m \u001b[38;5;28;01mfor\u001b[39;00m cosa \u001b[38;5;129;01min\u001b[39;00m info_2:\n\u001b[32m----> \u001b[39m\u001b[32m3\u001b[39m     info = \u001b[43minfo_2\u001b[49m\u001b[43m.\u001b[49m\u001b[43mdescendants\u001b[49m()\n\u001b[32m      4\u001b[39m     \u001b[38;5;28;01mfor\u001b[39;00m i \u001b[38;5;129;01min\u001b[39;00m info:\n\u001b[32m      5\u001b[39m         \u001b[38;5;28mprint\u001b[39m(i.text.strip())\n",
      "\u001b[36mFile \u001b[39m\u001b[32m~/.local/share/virtualenvs/lauragarcia-3NpKiQeF/lib/python3.12/site-packages/bs4/element.py:2877\u001b[39m, in \u001b[36mResultSet.__getattr__\u001b[39m\u001b[34m(self, key)\u001b[39m\n\u001b[32m   2875\u001b[39m \u001b[38;5;28;01mdef\u001b[39;00m\u001b[38;5;250m \u001b[39m\u001b[34m__getattr__\u001b[39m(\u001b[38;5;28mself\u001b[39m, key: \u001b[38;5;28mstr\u001b[39m) -> \u001b[38;5;28;01mNone\u001b[39;00m:\n\u001b[32m   2876\u001b[39m \u001b[38;5;250m    \u001b[39m\u001b[33;03m\"\"\"Raise a helpful exception to explain a common code fix.\"\"\"\u001b[39;00m\n\u001b[32m-> \u001b[39m\u001b[32m2877\u001b[39m     \u001b[38;5;28;01mraise\u001b[39;00m \u001b[38;5;167;01mAttributeError\u001b[39;00m(\n\u001b[32m   2878\u001b[39m         \u001b[33mf\u001b[39m\u001b[33m\"\"\"\u001b[39m\u001b[33mResultSet object has no attribute \u001b[39m\u001b[33m\"\u001b[39m\u001b[38;5;132;01m{\u001b[39;00mkey\u001b[38;5;132;01m}\u001b[39;00m\u001b[33m\"\u001b[39m\u001b[33m. You\u001b[39m\u001b[33m'\u001b[39m\u001b[33mre probably treating a list of elements like a single element. Did you call find_all() when you meant to call find()?\u001b[39m\u001b[33m\"\"\"\u001b[39m\n\u001b[32m   2879\u001b[39m     )\n",
      "\u001b[31mAttributeError\u001b[39m: ResultSet object has no attribute \"descendants\". You're probably treating a list of elements like a single element. Did you call find_all() when you meant to call find()?"
     ]
    }
   ],
   "source": [
    "info_2= sopa.find_all('div', class_=\"text___3mq1J\")\n",
    "for cosa in info_2:\n",
    "    info = info_2.descendants()\n",
    "    for i in info:\n",
    "        print(i.text.strip())\n"
   ]
  },
  {
   "cell_type": "code",
   "execution_count": null,
   "metadata": {},
   "outputs": [],
   "source": [
    "# en esta página los puntos a favor son 3 también\n",
    "cosas_a_favor_2= sopa.find_all('li', class_='list-icon__item list-icon__item--positive') # da valores repetidos porque están dos veces\n",
    "lista_a_favor = []\n",
    "for indice, a_favor in enumerate(cosas_a_favor):\n",
    "    if a_favor not in lista_a_favor:\n",
    "        lista_a_favor.append(a_favor.text.strip())\n",
    "        indice +=1\n",
    "print(lista_a_favor)"
   ]
  }
 ],
 "metadata": {
  "kernelspec": {
   "display_name": "Python 3 (ipykernel)",
   "language": "python",
   "name": "python3"
  },
  "language_info": {
   "codemirror_mode": {
    "name": "ipython",
    "version": 3
   },
   "file_extension": ".py",
   "mimetype": "text/x-python",
   "name": "python",
   "nbconvert_exporter": "python",
   "pygments_lexer": "ipython3",
   "version": "3.12.2"
  }
 },
 "nbformat": 4,
 "nbformat_minor": 2
}
